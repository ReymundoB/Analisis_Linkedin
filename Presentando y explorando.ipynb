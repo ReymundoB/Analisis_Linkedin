{
 "cells": [
  {
   "cell_type": "markdown",
   "metadata": {
    "id": "BwMnnl2fzKNV"
   },
   "source": [
    "# Limpieza de Datos\n",
    "\n",
    "Cargamos nuestras librerias basicas."
   ]
  },
  {
   "cell_type": "code",
   "execution_count": 1,
   "metadata": {
    "executionInfo": {
     "elapsed": 5,
     "status": "ok",
     "timestamp": 1694059969626,
     "user": {
      "displayName": "Reymundo B.Z.",
      "userId": "07619975402497087044"
     },
     "user_tz": 360
    },
    "id": "CiKpKSNhvKsb"
   },
   "outputs": [],
   "source": [
    "import os\n",
    "import glob\n",
    "from pathlib import Path"
   ]
  },
  {
   "cell_type": "code",
   "execution_count": 2,
   "metadata": {
    "executionInfo": {
     "elapsed": 509,
     "status": "ok",
     "timestamp": 1694059971875,
     "user": {
      "displayName": "Reymundo B.Z.",
      "userId": "07619975402497087044"
     },
     "user_tz": 360
    },
    "id": "Jjjbd9810-RC"
   },
   "outputs": [],
   "source": [
    "import numpy as np\n",
    "import pandas as pd"
   ]
  },
  {
   "cell_type": "markdown",
   "metadata": {
    "id": "iiXmKD5f1ijv"
   },
   "source": [
    "Tenemos nuestro datos en la carpeta 'Data' del proyecto"
   ]
  },
  {
   "cell_type": "code",
   "execution_count": 7,
   "metadata": {
    "colab": {
     "base_uri": "https://localhost:8080/"
    },
    "executionInfo": {
     "elapsed": 274,
     "status": "ok",
     "timestamp": 1694059974041,
     "user": {
      "displayName": "Reymundo B.Z.",
      "userId": "07619975402497087044"
     },
     "user_tz": 360
    },
    "id": "KS0VEiD41oPP",
    "outputId": "e90c2ac2-129e-4917-b912-c3295fb9f3a7"
   },
   "outputs": [
    {
     "data": {
      "text/plain": [
       "WindowsPath('C:/Users/Reymu/Desktop/Ciencia de datos/Datos (pandas)/Proyectos')"
      ]
     },
     "execution_count": 7,
     "metadata": {},
     "output_type": "execute_result"
    }
   ],
   "source": [
    "BASE_DIR = Path.cwd().parent\n",
    "BASE_DIR"
   ]
  },
  {
   "cell_type": "code",
   "execution_count": 12,
   "metadata": {
    "id": "_MpCfU4G2rfe"
   },
   "outputs": [
    {
     "data": {
      "text/plain": [
       "['job_postings.csv']"
      ]
     },
     "execution_count": 12,
     "metadata": {},
     "output_type": "execute_result"
    }
   ],
   "source": [
    "#para generar una lista de los archivos que indicamos con glob\n",
    "[Path(filename).name for filename in glob.glob(f\"{BASE_DIR / 'linkedln/data/*.csv'}\")]"
   ]
  },
  {
   "cell_type": "code",
   "execution_count": 18,
   "metadata": {
    "id": "256v71Xb4hNg"
   },
   "outputs": [],
   "source": [
    "##Cargamos el archivo, importante monitorear tu ram\n",
    "#%%time\n",
    "data = pd.read_csv(BASE_DIR / 'linkedln/data/job_postings.csv')"
   ]
  },
  {
   "cell_type": "code",
   "execution_count": 19,
   "metadata": {
    "id": "i1JNwfw54y5I"
   },
   "outputs": [
    {
     "name": "stdout",
     "output_type": "stream",
     "text": [
      "<class 'pandas.core.frame.DataFrame'>\n",
      "RangeIndex: 15886 entries, 0 to 15885\n",
      "Data columns (total 27 columns):\n",
      " #   Column                      Non-Null Count  Dtype  \n",
      "---  ------                      --------------  -----  \n",
      " 0   job_id                      15886 non-null  int64  \n",
      " 1   company_id                  15520 non-null  float64\n",
      " 2   title                       15886 non-null  object \n",
      " 3   description                 15885 non-null  object \n",
      " 4   max_salary                  5521 non-null   float64\n",
      " 5   med_salary                  981 non-null    float64\n",
      " 6   min_salary                  5521 non-null   float64\n",
      " 7   pay_period                  6502 non-null   object \n",
      " 8   formatted_work_type         15886 non-null  object \n",
      " 9   location                    15886 non-null  object \n",
      " 10  applies                     8700 non-null   float64\n",
      " 11  original_listed_time        15886 non-null  float64\n",
      " 12  remote_allowed              2340 non-null   float64\n",
      " 13  views                       13123 non-null  float64\n",
      " 14  job_posting_url             15886 non-null  object \n",
      " 15  application_url             9795 non-null   object \n",
      " 16  application_type            15886 non-null  object \n",
      " 17  expiry                      15886 non-null  float64\n",
      " 18  closed_time                 928 non-null    float64\n",
      " 19  formatted_experience_level  10984 non-null  object \n",
      " 20  skills_desc                 144 non-null    object \n",
      " 21  listed_time                 15886 non-null  float64\n",
      " 22  posting_domain              9044 non-null   object \n",
      " 23  sponsored                   15886 non-null  int64  \n",
      " 24  work_type                   15886 non-null  object \n",
      " 25  currency                    6502 non-null   object \n",
      " 26  compensation_type           6502 non-null   object \n",
      "dtypes: float64(11), int64(2), object(14)\n",
      "memory usage: 3.3+ MB\n"
     ]
    }
   ],
   "source": [
    "data.info()\n"
   ]
  },
  {
   "cell_type": "code",
   "execution_count": 20,
   "metadata": {
    "id": "yQYJRaHz7IHA"
   },
   "outputs": [
    {
     "data": {
      "text/plain": [
       "Index                               128\n",
       "job_id                           127088\n",
       "company_id                       127088\n",
       "title                           1407019\n",
       "description                   107172731\n",
       "max_salary                       127088\n",
       "med_salary                       127088\n",
       "min_salary                       127088\n",
       "pay_period                       709997\n",
       "formatted_work_type             1046636\n",
       "location                        1129273\n",
       "applies                          127088\n",
       "original_listed_time             127088\n",
       "remote_allowed                   127088\n",
       "views                            127088\n",
       "job_posting_url                 2001628\n",
       "application_url                 1885782\n",
       "application_type                1134218\n",
       "expiry                           127088\n",
       "closed_time                      127088\n",
       "formatted_experience_level       924256\n",
       "skills_desc                      660199\n",
       "listed_time                      127088\n",
       "posting_domain                   929873\n",
       "sponsored                        127088\n",
       "work_type                       1046636\n",
       "currency                         690408\n",
       "compensation_type                742424\n",
       "dtype: int64"
      ]
     },
     "execution_count": 20,
     "metadata": {},
     "output_type": "execute_result"
    }
   ],
   "source": [
    "#Podemos revisar cuanta memoria utilizamos\n",
    "data.memory_usage(deep=True)"
   ]
  },
  {
   "cell_type": "code",
   "execution_count": null,
   "metadata": {},
   "outputs": [],
   "source": []
  }
 ],
 "metadata": {
  "colab": {
   "authorship_tag": "ABX9TyPId+FISkXjZ5mKQCOHb6J7",
   "provenance": []
  },
  "kernelspec": {
   "display_name": "Python 3",
   "language": "python",
   "name": "python3"
  },
  "language_info": {
   "codemirror_mode": {
    "name": "ipython",
    "version": 3
   },
   "file_extension": ".py",
   "mimetype": "text/x-python",
   "name": "python",
   "nbconvert_exporter": "python",
   "pygments_lexer": "ipython3",
   "version": "3.9.1"
  }
 },
 "nbformat": 4,
 "nbformat_minor": 1
}
