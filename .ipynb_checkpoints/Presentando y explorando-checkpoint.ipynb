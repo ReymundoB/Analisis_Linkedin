{
 "cells": [
  {
   "cell_type": "markdown",
   "metadata": {
    "id": "BwMnnl2fzKNV"
   },
   "source": [
    "# Limpieza de Datos\n",
    "\n",
    "Cargamos nuestras librerias basicas."
   ]
  },
  {
   "cell_type": "code",
   "execution_count": 1,
   "metadata": {
    "executionInfo": {
     "elapsed": 5,
     "status": "ok",
     "timestamp": 1694059969626,
     "user": {
      "displayName": "Reymundo B.Z.",
      "userId": "07619975402497087044"
     },
     "user_tz": 360
    },
    "id": "CiKpKSNhvKsb"
   },
   "outputs": [],
   "source": [
    "import os\n",
    "import glob\n",
    "from pathlib import Path"
   ]
  },
  {
   "cell_type": "code",
   "execution_count": 2,
   "metadata": {
    "executionInfo": {
     "elapsed": 509,
     "status": "ok",
     "timestamp": 1694059971875,
     "user": {
      "displayName": "Reymundo B.Z.",
      "userId": "07619975402497087044"
     },
     "user_tz": 360
    },
    "id": "Jjjbd9810-RC"
   },
   "outputs": [],
   "source": [
    "import numpy as np\n",
    "import pandas as pd"
   ]
  },
  {
   "cell_type": "markdown",
   "metadata": {
    "id": "iiXmKD5f1ijv"
   },
   "source": [
    "Tenemos nuestro datos en la carpeta 'Data' del proyecto"
   ]
  },
  {
   "cell_type": "code",
   "execution_count": 3,
   "metadata": {
    "colab": {
     "base_uri": "https://localhost:8080/"
    },
    "executionInfo": {
     "elapsed": 274,
     "status": "ok",
     "timestamp": 1694059974041,
     "user": {
      "displayName": "Reymundo B.Z.",
      "userId": "07619975402497087044"
     },
     "user_tz": 360
    },
    "id": "KS0VEiD41oPP",
    "outputId": "e90c2ac2-129e-4917-b912-c3295fb9f3a7"
   },
   "outputs": [
    {
     "data": {
      "text/plain": [
       "PosixPath('/')"
      ]
     },
     "execution_count": 3,
     "metadata": {},
     "output_type": "execute_result"
    }
   ],
   "source": [
    "BASE_DIR = Path.cwd().parent\n",
    "BASE_DIR"
   ]
  },
  {
   "cell_type": "code",
   "execution_count": null,
   "metadata": {
    "id": "_MpCfU4G2rfe"
   },
   "outputs": [],
   "source": [
    "#para generar una lista de los archivos que indicamos con glob\n",
    " [Path(filename).name for filename in glob.glob(f\"{BASE_DIR / 'data/nombre_carpeta/*.csv'}\")]"
   ]
  },
  {
   "cell_type": "code",
   "execution_count": null,
   "metadata": {
    "id": "256v71Xb4hNg"
   },
   "outputs": [],
   "source": [
    "##Cargamos el archivo, importante monitorear tu ram\n",
    "%%time\n",
    "data = pd.read_csv(BASE_DIR / 'data/nombre_carpeta/southeast.csv')"
   ]
  },
  {
   "cell_type": "code",
   "execution_count": null,
   "metadata": {
    "id": "i1JNwfw54y5I"
   },
   "outputs": [],
   "source": [
    "data.info()\n"
   ]
  },
  {
   "cell_type": "code",
   "execution_count": null,
   "metadata": {
    "id": "yQYJRaHz7IHA"
   },
   "outputs": [],
   "source": [
    "#Podemos revisar cuanta memoria utilizamos\n",
    "data.memory_usage(deep=True)"
   ]
  }
 ],
 "metadata": {
  "colab": {
   "authorship_tag": "ABX9TyPId+FISkXjZ5mKQCOHb6J7",
   "provenance": []
  },
  "kernelspec": {
   "display_name": "Python 3",
   "language": "python",
   "name": "python3"
  },
  "language_info": {
   "codemirror_mode": {
    "name": "ipython",
    "version": 3
   },
   "file_extension": ".py",
   "mimetype": "text/x-python",
   "name": "python",
   "nbconvert_exporter": "python",
   "pygments_lexer": "ipython3",
   "version": "3.9.1"
  }
 },
 "nbformat": 4,
 "nbformat_minor": 1
}
