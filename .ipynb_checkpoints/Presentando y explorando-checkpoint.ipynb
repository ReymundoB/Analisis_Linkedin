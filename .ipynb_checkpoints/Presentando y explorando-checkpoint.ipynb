{
 "cells": [
  {
   "cell_type": "markdown",
   "metadata": {
    "id": "BwMnnl2fzKNV"
   },
   "source": [
    "# Limpieza de Datos\n",
    "\n",
    "Cargamos nuestras librerias basicas."
   ]
  },
  {
   "cell_type": "code",
   "execution_count": 28,
   "metadata": {
    "executionInfo": {
     "elapsed": 5,
     "status": "ok",
     "timestamp": 1694059969626,
     "user": {
      "displayName": "Reymundo B.Z.",
      "userId": "07619975402497087044"
     },
     "user_tz": 360
    },
    "id": "CiKpKSNhvKsb"
   },
   "outputs": [],
   "source": [
    "import os\n",
    "import glob\n",
    "from pathlib import Path"
   ]
  },
  {
   "cell_type": "code",
   "execution_count": 29,
   "metadata": {
    "executionInfo": {
     "elapsed": 509,
     "status": "ok",
     "timestamp": 1694059971875,
     "user": {
      "displayName": "Reymundo B.Z.",
      "userId": "07619975402497087044"
     },
     "user_tz": 360
    },
    "id": "Jjjbd9810-RC"
   },
   "outputs": [],
   "source": [
    "import numpy as np\n",
    "import pandas as pd"
   ]
  },
  {
   "cell_type": "markdown",
   "metadata": {
    "id": "iiXmKD5f1ijv"
   },
   "source": [
    "Tenemos nuestro datos en la carpeta 'Data' del proyecto"
   ]
  },
  {
   "cell_type": "code",
   "execution_count": 30,
   "metadata": {
    "colab": {
     "base_uri": "https://localhost:8080/"
    },
    "executionInfo": {
     "elapsed": 274,
     "status": "ok",
     "timestamp": 1694059974041,
     "user": {
      "displayName": "Reymundo B.Z.",
      "userId": "07619975402497087044"
     },
     "user_tz": 360
    },
    "id": "KS0VEiD41oPP",
    "outputId": "e90c2ac2-129e-4917-b912-c3295fb9f3a7"
   },
   "outputs": [
    {
     "data": {
      "text/plain": [
       "WindowsPath('C:/Users/Reymu/Desktop/Ciencia de datos/Datos (pandas)/Proyectos')"
      ]
     },
     "execution_count": 30,
     "metadata": {},
     "output_type": "execute_result"
    }
   ],
   "source": [
    "BASE_DIR = Path.cwd().parent\n",
    "BASE_DIR"
   ]
  },
  {
   "cell_type": "code",
   "execution_count": 31,
   "metadata": {
    "id": "_MpCfU4G2rfe"
   },
   "outputs": [
    {
     "data": {
      "text/plain": [
       "['job_postings.csv']"
      ]
     },
     "execution_count": 31,
     "metadata": {},
     "output_type": "execute_result"
    }
   ],
   "source": [
    "#para generar una lista de los archivos que indicamos con glob\n",
    "[Path(filename).name for filename in glob.glob(f\"{BASE_DIR / 'linkedln/data/*.csv'}\")]"
   ]
  },
  {
   "cell_type": "code",
   "execution_count": 32,
   "metadata": {
    "id": "256v71Xb4hNg"
   },
   "outputs": [],
   "source": [
    "##Cargamos el archivo, importante monitorear tu ram\n",
    "#%%time\n",
    "data = pd.read_csv(BASE_DIR / 'linkedln/data/job_postings.csv')"
   ]
  },
  {
   "cell_type": "code",
   "execution_count": 33,
   "metadata": {
    "id": "i1JNwfw54y5I"
   },
   "outputs": [
    {
     "name": "stdout",
     "output_type": "stream",
     "text": [
      "<class 'pandas.core.frame.DataFrame'>\n",
      "RangeIndex: 15886 entries, 0 to 15885\n",
      "Data columns (total 27 columns):\n",
      " #   Column                      Non-Null Count  Dtype  \n",
      "---  ------                      --------------  -----  \n",
      " 0   job_id                      15886 non-null  int64  \n",
      " 1   company_id                  15520 non-null  float64\n",
      " 2   title                       15886 non-null  object \n",
      " 3   description                 15885 non-null  object \n",
      " 4   max_salary                  5521 non-null   float64\n",
      " 5   med_salary                  981 non-null    float64\n",
      " 6   min_salary                  5521 non-null   float64\n",
      " 7   pay_period                  6502 non-null   object \n",
      " 8   formatted_work_type         15886 non-null  object \n",
      " 9   location                    15886 non-null  object \n",
      " 10  applies                     8700 non-null   float64\n",
      " 11  original_listed_time        15886 non-null  float64\n",
      " 12  remote_allowed              2340 non-null   float64\n",
      " 13  views                       13123 non-null  float64\n",
      " 14  job_posting_url             15886 non-null  object \n",
      " 15  application_url             9795 non-null   object \n",
      " 16  application_type            15886 non-null  object \n",
      " 17  expiry                      15886 non-null  float64\n",
      " 18  closed_time                 928 non-null    float64\n",
      " 19  formatted_experience_level  10984 non-null  object \n",
      " 20  skills_desc                 144 non-null    object \n",
      " 21  listed_time                 15886 non-null  float64\n",
      " 22  posting_domain              9044 non-null   object \n",
      " 23  sponsored                   15886 non-null  int64  \n",
      " 24  work_type                   15886 non-null  object \n",
      " 25  currency                    6502 non-null   object \n",
      " 26  compensation_type           6502 non-null   object \n",
      "dtypes: float64(11), int64(2), object(14)\n",
      "memory usage: 3.3+ MB\n"
     ]
    }
   ],
   "source": [
    "data.info()\n"
   ]
  },
  {
   "cell_type": "code",
   "execution_count": 34,
   "metadata": {
    "id": "yQYJRaHz7IHA",
    "scrolled": true
   },
   "outputs": [
    {
     "data": {
      "text/plain": [
       "Index                               128\n",
       "job_id                           127088\n",
       "company_id                       127088\n",
       "title                           1407019\n",
       "description                   107172731\n",
       "max_salary                       127088\n",
       "med_salary                       127088\n",
       "min_salary                       127088\n",
       "pay_period                       709997\n",
       "formatted_work_type             1046636\n",
       "location                        1129273\n",
       "applies                          127088\n",
       "original_listed_time             127088\n",
       "remote_allowed                   127088\n",
       "views                            127088\n",
       "job_posting_url                 2001628\n",
       "application_url                 1885782\n",
       "application_type                1134218\n",
       "expiry                           127088\n",
       "closed_time                      127088\n",
       "formatted_experience_level       924256\n",
       "skills_desc                      660199\n",
       "listed_time                      127088\n",
       "posting_domain                   929873\n",
       "sponsored                        127088\n",
       "work_type                       1046636\n",
       "currency                         690408\n",
       "compensation_type                742424\n",
       "dtype: int64"
      ]
     },
     "execution_count": 34,
     "metadata": {},
     "output_type": "execute_result"
    }
   ],
   "source": [
    "#Podemos revisar cuanta memoria utilizamos\n",
    "data.memory_usage(deep=True)"
   ]
  },
  {
   "cell_type": "markdown",
   "metadata": {},
   "source": [
    "## Datos de muestra.\n",
    "\n",
    "En caso de que nuestros conjuntos de datos son grandes podemosa trabajar con unos datos de muestra"
   ]
  },
  {
   "cell_type": "code",
   "execution_count": 35,
   "metadata": {},
   "outputs": [],
   "source": [
    "#sample(filas, semilla del random)\n",
    "sample_df = data.sample(8000, random_state=101)\n"
   ]
  },
  {
   "cell_type": "code",
   "execution_count": 36,
   "metadata": {},
   "outputs": [
    {
     "data": {
      "text/html": [
       "<div>\n",
       "<style scoped>\n",
       "    .dataframe tbody tr th:only-of-type {\n",
       "        vertical-align: middle;\n",
       "    }\n",
       "\n",
       "    .dataframe tbody tr th {\n",
       "        vertical-align: top;\n",
       "    }\n",
       "\n",
       "    .dataframe thead th {\n",
       "        text-align: right;\n",
       "    }\n",
       "</style>\n",
       "<table border=\"1\" class=\"dataframe\">\n",
       "  <thead>\n",
       "    <tr style=\"text-align: right;\">\n",
       "      <th></th>\n",
       "      <th>job_id</th>\n",
       "      <th>company_id</th>\n",
       "      <th>title</th>\n",
       "      <th>description</th>\n",
       "      <th>max_salary</th>\n",
       "      <th>med_salary</th>\n",
       "      <th>min_salary</th>\n",
       "      <th>pay_period</th>\n",
       "      <th>formatted_work_type</th>\n",
       "      <th>location</th>\n",
       "      <th>...</th>\n",
       "      <th>expiry</th>\n",
       "      <th>closed_time</th>\n",
       "      <th>formatted_experience_level</th>\n",
       "      <th>skills_desc</th>\n",
       "      <th>listed_time</th>\n",
       "      <th>posting_domain</th>\n",
       "      <th>sponsored</th>\n",
       "      <th>work_type</th>\n",
       "      <th>currency</th>\n",
       "      <th>compensation_type</th>\n",
       "    </tr>\n",
       "  </thead>\n",
       "  <tbody>\n",
       "    <tr>\n",
       "      <th>11267</th>\n",
       "      <td>3699089065</td>\n",
       "      <td>283807.0</td>\n",
       "      <td>Maintenance Technician</td>\n",
       "      <td>Job Overview: \\nAs a Maintenance Staff Member,...</td>\n",
       "      <td>NaN</td>\n",
       "      <td>22.00</td>\n",
       "      <td>NaN</td>\n",
       "      <td>HOURLY</td>\n",
       "      <td>Full-time</td>\n",
       "      <td>Fort Myers, FL</td>\n",
       "      <td>...</td>\n",
       "      <td>1.700000e+12</td>\n",
       "      <td>NaN</td>\n",
       "      <td>Entry level</td>\n",
       "      <td>NaN</td>\n",
       "      <td>1.690000e+12</td>\n",
       "      <td>myjobs.adp.com</td>\n",
       "      <td>0</td>\n",
       "      <td>FULL_TIME</td>\n",
       "      <td>USD</td>\n",
       "      <td>BASE_SALARY</td>\n",
       "    </tr>\n",
       "    <tr>\n",
       "      <th>9896</th>\n",
       "      <td>3699052941</td>\n",
       "      <td>89877420.0</td>\n",
       "      <td>Accountant</td>\n",
       "      <td>Overview\\nThe Accountant assists with accounti...</td>\n",
       "      <td>85000.0</td>\n",
       "      <td>NaN</td>\n",
       "      <td>55000.0</td>\n",
       "      <td>YEARLY</td>\n",
       "      <td>Full-time</td>\n",
       "      <td>United States</td>\n",
       "      <td>...</td>\n",
       "      <td>1.700000e+12</td>\n",
       "      <td>NaN</td>\n",
       "      <td>Mid-Senior level</td>\n",
       "      <td>NaN</td>\n",
       "      <td>1.690000e+12</td>\n",
       "      <td>careers.vectrus.com</td>\n",
       "      <td>0</td>\n",
       "      <td>FULL_TIME</td>\n",
       "      <td>USD</td>\n",
       "      <td>BASE_SALARY</td>\n",
       "    </tr>\n",
       "    <tr>\n",
       "      <th>11275</th>\n",
       "      <td>3699089155</td>\n",
       "      <td>15656.0</td>\n",
       "      <td>Project Manager IV</td>\n",
       "      <td>\\nCompany Description\\n \\nAt AECOM, we’re deli...</td>\n",
       "      <td>NaN</td>\n",
       "      <td>NaN</td>\n",
       "      <td>NaN</td>\n",
       "      <td>NaN</td>\n",
       "      <td>Full-time</td>\n",
       "      <td>Coral Gables, FL</td>\n",
       "      <td>...</td>\n",
       "      <td>1.700000e+12</td>\n",
       "      <td>NaN</td>\n",
       "      <td>Mid-Senior level</td>\n",
       "      <td>NaN</td>\n",
       "      <td>1.690000e+12</td>\n",
       "      <td>rr.jobsyn.org</td>\n",
       "      <td>0</td>\n",
       "      <td>FULL_TIME</td>\n",
       "      <td>NaN</td>\n",
       "      <td>NaN</td>\n",
       "    </tr>\n",
       "    <tr>\n",
       "      <th>5915</th>\n",
       "      <td>3694101293</td>\n",
       "      <td>10126963.0</td>\n",
       "      <td>Sr. Media Relations Specialist</td>\n",
       "      <td>Sr. Media Relations Strategist\\nLocation: Chic...</td>\n",
       "      <td>NaN</td>\n",
       "      <td>NaN</td>\n",
       "      <td>NaN</td>\n",
       "      <td>NaN</td>\n",
       "      <td>Full-time</td>\n",
       "      <td>Chicago, IL</td>\n",
       "      <td>...</td>\n",
       "      <td>1.700000e+12</td>\n",
       "      <td>NaN</td>\n",
       "      <td>Mid-Senior level</td>\n",
       "      <td>NaN</td>\n",
       "      <td>1.690000e+12</td>\n",
       "      <td>NaN</td>\n",
       "      <td>1</td>\n",
       "      <td>FULL_TIME</td>\n",
       "      <td>NaN</td>\n",
       "      <td>NaN</td>\n",
       "    </tr>\n",
       "    <tr>\n",
       "      <th>3018</th>\n",
       "      <td>3693061971</td>\n",
       "      <td>28893.0</td>\n",
       "      <td>Full-time Store Supervisor - Plaza Bonita 0753</td>\n",
       "      <td>Overview\\n\\nThe FT Store Supervisor position w...</td>\n",
       "      <td>NaN</td>\n",
       "      <td>16.75</td>\n",
       "      <td>NaN</td>\n",
       "      <td>HOURLY</td>\n",
       "      <td>Full-time</td>\n",
       "      <td>National City, CA</td>\n",
       "      <td>...</td>\n",
       "      <td>1.700000e+12</td>\n",
       "      <td>NaN</td>\n",
       "      <td>Mid-Senior level</td>\n",
       "      <td>NaN</td>\n",
       "      <td>1.690000e+12</td>\n",
       "      <td>retail-forever21-sparcgroup.icims.com</td>\n",
       "      <td>1</td>\n",
       "      <td>FULL_TIME</td>\n",
       "      <td>USD</td>\n",
       "      <td>BASE_SALARY</td>\n",
       "    </tr>\n",
       "  </tbody>\n",
       "</table>\n",
       "<p>5 rows × 27 columns</p>\n",
       "</div>"
      ],
      "text/plain": [
       "           job_id  company_id                                           title  \\\n",
       "11267  3699089065    283807.0                          Maintenance Technician   \n",
       "9896   3699052941  89877420.0                                      Accountant   \n",
       "11275  3699089155     15656.0                              Project Manager IV   \n",
       "5915   3694101293  10126963.0                  Sr. Media Relations Specialist   \n",
       "3018   3693061971     28893.0  Full-time Store Supervisor - Plaza Bonita 0753   \n",
       "\n",
       "                                             description  max_salary  \\\n",
       "11267  Job Overview: \\nAs a Maintenance Staff Member,...         NaN   \n",
       "9896   Overview\\nThe Accountant assists with accounti...     85000.0   \n",
       "11275  \\nCompany Description\\n \\nAt AECOM, we’re deli...         NaN   \n",
       "5915   Sr. Media Relations Strategist\\nLocation: Chic...         NaN   \n",
       "3018   Overview\\n\\nThe FT Store Supervisor position w...         NaN   \n",
       "\n",
       "       med_salary  min_salary pay_period formatted_work_type  \\\n",
       "11267       22.00         NaN     HOURLY           Full-time   \n",
       "9896          NaN     55000.0     YEARLY           Full-time   \n",
       "11275         NaN         NaN        NaN           Full-time   \n",
       "5915          NaN         NaN        NaN           Full-time   \n",
       "3018        16.75         NaN     HOURLY           Full-time   \n",
       "\n",
       "                location  ...        expiry  closed_time  \\\n",
       "11267     Fort Myers, FL  ...  1.700000e+12          NaN   \n",
       "9896       United States  ...  1.700000e+12          NaN   \n",
       "11275   Coral Gables, FL  ...  1.700000e+12          NaN   \n",
       "5915         Chicago, IL  ...  1.700000e+12          NaN   \n",
       "3018   National City, CA  ...  1.700000e+12          NaN   \n",
       "\n",
       "       formatted_experience_level  skills_desc   listed_time  \\\n",
       "11267                 Entry level          NaN  1.690000e+12   \n",
       "9896             Mid-Senior level          NaN  1.690000e+12   \n",
       "11275            Mid-Senior level          NaN  1.690000e+12   \n",
       "5915             Mid-Senior level          NaN  1.690000e+12   \n",
       "3018             Mid-Senior level          NaN  1.690000e+12   \n",
       "\n",
       "                              posting_domain sponsored  work_type  currency  \\\n",
       "11267                         myjobs.adp.com         0  FULL_TIME       USD   \n",
       "9896                     careers.vectrus.com         0  FULL_TIME       USD   \n",
       "11275                          rr.jobsyn.org         0  FULL_TIME       NaN   \n",
       "5915                                     NaN         1  FULL_TIME       NaN   \n",
       "3018   retail-forever21-sparcgroup.icims.com         1  FULL_TIME       USD   \n",
       "\n",
       "      compensation_type  \n",
       "11267       BASE_SALARY  \n",
       "9896        BASE_SALARY  \n",
       "11275               NaN  \n",
       "5915                NaN  \n",
       "3018        BASE_SALARY  \n",
       "\n",
       "[5 rows x 27 columns]"
      ]
     },
     "execution_count": 36,
     "metadata": {},
     "output_type": "execute_result"
    }
   ],
   "source": [
    "sample_df.head()"
   ]
  },
  {
   "cell_type": "code",
   "execution_count": 37,
   "metadata": {},
   "outputs": [
    {
     "data": {
      "text/plain": [
       "Index(['job_id', 'company_id', 'title', 'description', 'max_salary',\n",
       "       'med_salary', 'min_salary', 'pay_period', 'formatted_work_type',\n",
       "       'location', 'applies', 'original_listed_time', 'remote_allowed',\n",
       "       'views', 'job_posting_url', 'application_url', 'application_type',\n",
       "       'expiry', 'closed_time', 'formatted_experience_level', 'skills_desc',\n",
       "       'listed_time', 'posting_domain', 'sponsored', 'work_type', 'currency',\n",
       "       'compensation_type'],\n",
       "      dtype='object')"
      ]
     },
     "execution_count": 37,
     "metadata": {},
     "output_type": "execute_result"
    }
   ],
   "source": [
    "sample_df.columns\n",
    "#en caso de tener columnas con nombres muy grandes podemos realizar un renombre de las columnas\n",
    "#crear un lista con los nombres y se las asignas\n",
    "#columns = ['nombre', 'nombre'....]\n",
    "#sample_df.columns=columns"
   ]
  },
  {
   "cell_type": "markdown",
   "metadata": {},
   "source": [
    "# Seleccioando la informacion relevante\n",
    "\n"
   ]
  },
  {
   "cell_type": "code",
   "execution_count": 80,
   "metadata": {},
   "outputs": [
    {
     "data": {
      "text/plain": [
       "job_id                        15886\n",
       "company_id                    15520\n",
       "title                         15886\n",
       "description                   15885\n",
       "max_salary                     5521\n",
       "med_salary                      981\n",
       "min_salary                     5521\n",
       "pay_period                     6502\n",
       "formatted_work_type           15886\n",
       "location                      15886\n",
       "applies                        8700\n",
       "original_listed_time          15886\n",
       "remote_allowed                 2340\n",
       "views                         13123\n",
       "job_posting_url               15886\n",
       "application_url                9795\n",
       "application_type              15886\n",
       "expiry                        15886\n",
       "closed_time                     928\n",
       "formatted_experience_level    10984\n",
       "skills_desc                     144\n",
       "listed_time                   15886\n",
       "posting_domain                 9044\n",
       "sponsored                     15886\n",
       "work_type                     15886\n",
       "currency                       6502\n",
       "compensation_type              6502\n",
       "dtype: int64"
      ]
     },
     "execution_count": 80,
     "metadata": {},
     "output_type": "execute_result"
    }
   ],
   "source": [
    "#Revisamos las columnas y el cotenido\n",
    "data.count(axis=0)\n",
    "#data['compensation_type']\n",
    "\n"
   ]
  },
  {
   "cell_type": "code",
   "execution_count": 87,
   "metadata": {},
   "outputs": [
    {
     "data": {
      "text/html": [
       "<div>\n",
       "<style scoped>\n",
       "    .dataframe tbody tr th:only-of-type {\n",
       "        vertical-align: middle;\n",
       "    }\n",
       "\n",
       "    .dataframe tbody tr th {\n",
       "        vertical-align: top;\n",
       "    }\n",
       "\n",
       "    .dataframe thead th {\n",
       "        text-align: right;\n",
       "    }\n",
       "</style>\n",
       "<table border=\"1\" class=\"dataframe\">\n",
       "  <thead>\n",
       "    <tr style=\"text-align: right;\">\n",
       "      <th></th>\n",
       "      <th>title</th>\n",
       "      <th>max_salary</th>\n",
       "      <th>min_salary</th>\n",
       "      <th>applies</th>\n",
       "      <th>views</th>\n",
       "    </tr>\n",
       "  </thead>\n",
       "  <tbody>\n",
       "    <tr>\n",
       "      <th>686</th>\n",
       "      <td>Customer Success Manager</td>\n",
       "      <td>146000.0</td>\n",
       "      <td>115000.00</td>\n",
       "      <td>1420.0</td>\n",
       "      <td>5656.0</td>\n",
       "    </tr>\n",
       "    <tr>\n",
       "      <th>1770</th>\n",
       "      <td>Junior Software Engineer</td>\n",
       "      <td>NaN</td>\n",
       "      <td>NaN</td>\n",
       "      <td>1615.0</td>\n",
       "      <td>3657.0</td>\n",
       "    </tr>\n",
       "    <tr>\n",
       "      <th>470</th>\n",
       "      <td>President / CEO</td>\n",
       "      <td>NaN</td>\n",
       "      <td>NaN</td>\n",
       "      <td>149.0</td>\n",
       "      <td>3453.0</td>\n",
       "    </tr>\n",
       "    <tr>\n",
       "      <th>14118</th>\n",
       "      <td>Vice President</td>\n",
       "      <td>NaN</td>\n",
       "      <td>NaN</td>\n",
       "      <td>253.0</td>\n",
       "      <td>2599.0</td>\n",
       "    </tr>\n",
       "    <tr>\n",
       "      <th>14258</th>\n",
       "      <td>Executive Assistant</td>\n",
       "      <td>NaN</td>\n",
       "      <td>NaN</td>\n",
       "      <td>NaN</td>\n",
       "      <td>2570.0</td>\n",
       "    </tr>\n",
       "    <tr>\n",
       "      <th>...</th>\n",
       "      <td>...</td>\n",
       "      <td>...</td>\n",
       "      <td>...</td>\n",
       "      <td>...</td>\n",
       "      <td>...</td>\n",
       "    </tr>\n",
       "    <tr>\n",
       "      <th>15842</th>\n",
       "      <td>Sanitation Technician</td>\n",
       "      <td>NaN</td>\n",
       "      <td>NaN</td>\n",
       "      <td>NaN</td>\n",
       "      <td>NaN</td>\n",
       "    </tr>\n",
       "    <tr>\n",
       "      <th>15845</th>\n",
       "      <td>Chef</td>\n",
       "      <td>26.0</td>\n",
       "      <td>20.68</td>\n",
       "      <td>NaN</td>\n",
       "      <td>NaN</td>\n",
       "    </tr>\n",
       "    <tr>\n",
       "      <th>15856</th>\n",
       "      <td>Cook</td>\n",
       "      <td>NaN</td>\n",
       "      <td>NaN</td>\n",
       "      <td>NaN</td>\n",
       "      <td>NaN</td>\n",
       "    </tr>\n",
       "    <tr>\n",
       "      <th>15861</th>\n",
       "      <td>Field Sales Representative</td>\n",
       "      <td>NaN</td>\n",
       "      <td>NaN</td>\n",
       "      <td>NaN</td>\n",
       "      <td>NaN</td>\n",
       "    </tr>\n",
       "    <tr>\n",
       "      <th>15880</th>\n",
       "      <td>Sanitation Technician</td>\n",
       "      <td>NaN</td>\n",
       "      <td>NaN</td>\n",
       "      <td>NaN</td>\n",
       "      <td>NaN</td>\n",
       "    </tr>\n",
       "  </tbody>\n",
       "</table>\n",
       "<p>15886 rows × 5 columns</p>\n",
       "</div>"
      ],
      "text/plain": [
       "                            title  max_salary  min_salary  applies   views\n",
       "686      Customer Success Manager    146000.0   115000.00   1420.0  5656.0\n",
       "1770     Junior Software Engineer         NaN         NaN   1615.0  3657.0\n",
       "470               President / CEO         NaN         NaN    149.0  3453.0\n",
       "14118              Vice President         NaN         NaN    253.0  2599.0\n",
       "14258         Executive Assistant         NaN         NaN      NaN  2570.0\n",
       "...                           ...         ...         ...      ...     ...\n",
       "15842       Sanitation Technician         NaN         NaN      NaN     NaN\n",
       "15845                        Chef        26.0       20.68      NaN     NaN\n",
       "15856                        Cook         NaN         NaN      NaN     NaN\n",
       "15861  Field Sales Representative         NaN         NaN      NaN     NaN\n",
       "15880       Sanitation Technician         NaN         NaN      NaN     NaN\n",
       "\n",
       "[15886 rows x 5 columns]"
      ]
     },
     "execution_count": 87,
     "metadata": {},
     "output_type": "execute_result"
    }
   ],
   "source": [
    "#Aplicamos filtro para obtener las columnas relevantes \n",
    "data_filter=data.iloc[:][['title', 'max_salary','min_salary', 'applies', 'views']]\n",
    "\n",
    "data_filter.sort_values('views', ascending=False)"
   ]
  },
  {
   "cell_type": "markdown",
   "metadata": {},
   "source": [
    "### Gráficos\n",
    "Buscamos la forma de representar la informacion de manera que nos sea más facil de digerir.\n",
    "\n"
   ]
  },
  {
   "cell_type": "code",
   "execution_count": 109,
   "metadata": {},
   "outputs": [
    {
     "name": "stdout",
     "output_type": "stream",
     "text": [
      "                                           title  max_salary  min_salary  \\\n",
      "35                        Lead Software Engineer    190000.0    160000.0   \n",
      "69                            Teradata Developer         NaN         NaN   \n",
      "82                             Software Engineer         NaN         NaN   \n",
      "118       Senior Business Intelligence Developer       150.0       100.0   \n",
      "128    Staff Perception Software Engineer, CV/ML         NaN         NaN   \n",
      "...                                          ...         ...         ...   \n",
      "15788  Netsuite Developer Administrator - Remote         NaN         NaN   \n",
      "15792                   Senior Software Engineer         NaN         NaN   \n",
      "15813                  OCM Data Analyst (Remote)     88000.0     85000.0   \n",
      "15836           Senior Supply Chain Data Analyst    108000.0     76000.0   \n",
      "15877                     An, Database Developer         NaN         NaN   \n",
      "\n",
      "       applies  views  \n",
      "35         1.0   10.0  \n",
      "69        13.0   56.0  \n",
      "82        67.0  158.0  \n",
      "118       41.0  155.0  \n",
      "128        9.0   69.0  \n",
      "...        ...    ...  \n",
      "15788      4.0   33.0  \n",
      "15792      NaN  389.0  \n",
      "15813     47.0  165.0  \n",
      "15836     21.0  122.0  \n",
      "15877     15.0   76.0  \n",
      "\n",
      "[983 rows x 5 columns]\n"
     ]
    }
   ],
   "source": [
    "#Nos importa buscar empleos que contengan palabra clave como: data, developer, software\n",
    "interes_df=data_filter[ data_filter['title'].str.contains('Data|Software|Developer', case=False)]\n",
    "print(interes_df)\n",
    "#Al usar case=False no discrimanos entre mayusculas y minusculas"
   ]
  },
  {
   "cell_type": "markdown",
   "metadata": {},
   "source": [
    "### Guardamos los resultados"
   ]
  },
  {
   "cell_type": "code",
   "execution_count": 113,
   "metadata": {},
   "outputs": [],
   "source": [
    "#Se recomienda guardar en formato parquet ya que es multiplataforma, optimiza el tiempo de carga y memoria.\n",
    "interes_df.to_csv(BASE_DIR / \"linkedln/data/PROCESADO.csv\")"
   ]
  },
  {
   "cell_type": "code",
   "execution_count": null,
   "metadata": {},
   "outputs": [],
   "source": []
  },
  {
   "cell_type": "code",
   "execution_count": null,
   "metadata": {},
   "outputs": [],
   "source": []
  }
 ],
 "metadata": {
  "colab": {
   "authorship_tag": "ABX9TyPId+FISkXjZ5mKQCOHb6J7",
   "provenance": []
  },
  "kernelspec": {
   "display_name": "Python 3",
   "language": "python",
   "name": "python3"
  },
  "language_info": {
   "codemirror_mode": {
    "name": "ipython",
    "version": 3
   },
   "file_extension": ".py",
   "mimetype": "text/x-python",
   "name": "python",
   "nbconvert_exporter": "python",
   "pygments_lexer": "ipython3",
   "version": "3.9.1"
  }
 },
 "nbformat": 4,
 "nbformat_minor": 1
}
